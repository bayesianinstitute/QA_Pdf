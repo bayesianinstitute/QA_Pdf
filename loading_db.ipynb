{
 "cells": [
  {
   "cell_type": "code",
   "execution_count": 19,
   "metadata": {},
   "outputs": [],
   "source": [
    "from langchain.vectorstores import FAISS\n",
    "from langchain.llms import OpenAI\n",
    "from langchain.embeddings import OpenAIEmbeddings\n",
    "from langchain.chains.question_answering import load_qa_chain"
   ]
  },
  {
   "cell_type": "code",
   "execution_count": 6,
   "metadata": {},
   "outputs": [
    {
     "data": {
      "text/plain": [
       "OpenAIEmbeddings(client=<class 'openai.api_resources.embedding.Embedding'>, model='text-embedding-ada-002', document_model_name='text-embedding-ada-002', query_model_name='text-embedding-ada-002', embedding_ctx_length=-1, openai_api_key=None, chunk_size=1000, max_retries=6)"
      ]
     },
     "execution_count": 6,
     "metadata": {},
     "output_type": "execute_result"
    }
   ],
   "source": [
    "embedding=OpenAIEmbeddings()\n",
    "embedding"
   ]
  },
  {
   "cell_type": "code",
   "execution_count": 7,
   "metadata": {},
   "outputs": [],
   "source": [
    "def get_answer(querys,db,chains):\n",
    "    doc=db.similarity_search(querys)\n",
    "    return chains.run(input_documents=doc,question=querys)\n",
    "    "
   ]
  },
  {
   "cell_type": "code",
   "execution_count": 8,
   "metadata": {},
   "outputs": [
    {
     "name": "stdout",
     "output_type": "stream",
     "text": [
      "\n",
      "Question : what is blockchain\n",
      "\n",
      "Solution :   Blockchain is a distributed ledger technology that serves as a public record of transactions. It is a chain of blocks, which are made up of digital pieces of information, that are secured using cryptography. Each block contains a cryptographic hash of the previous block, a timestamp and transaction data. By design, blockchain is resistant to modification of the data.\n",
      "\n",
      "\n"
     ]
    }
   ],
   "source": [
    "new_db=FAISS.load_local(\"faissdb\",embedding)\n",
    "chain = load_qa_chain(OpenAI(), chain_type=\"stuff\")\n",
    "\n",
    " # Prompt user for questions and get answers\n",
    "\n",
    "while True:\n",
    "        # Get user query\n",
    "    query = input(\"Enter your question (or 'exit' to quit): \")\n",
    "    print(\"\")\n",
    "    if query.lower() == \"exit\":\n",
    "        break\n",
    "\n",
    "        # Get answer and print it\n",
    "    answer = get_answer(query, new_db, chain)\n",
    "    print(\"Question :\",query)\n",
    "    print(\"\")\n",
    "    print(\"Solution : \",answer)\n",
    "    print(\"\")\n"
   ]
  },
  {
   "attachments": {},
   "cell_type": "markdown",
   "metadata": {},
   "source": [
    "**Using Unstructured**"
   ]
  },
  {
   "cell_type": "code",
   "execution_count": 19,
   "metadata": {},
   "outputs": [],
   "source": [
    "from langchain.document_loaders import UnstructuredPDFLoader\n",
    "import os"
   ]
  },
  {
   "cell_type": "code",
   "execution_count": 50,
   "metadata": {},
   "outputs": [],
   "source": [
    "pdf_folder_path='/home/developer/faijan/Generative AI/pdfQuestion/documentPdf'\n",
    "loaders = [UnstructuredPDFLoader(os.path.join(pdf_folder_path, fn)) for fn in os.listdir(pdf_folder_path)]\n"
   ]
  },
  {
   "cell_type": "code",
   "execution_count": 51,
   "metadata": {},
   "outputs": [
    {
     "name": "stdout",
     "output_type": "stream",
     "text": [
      "loaders :  [<langchain.document_loaders.pdf.UnstructuredPDFLoader object at 0x7f30b44ab1c0>, <langchain.document_loaders.pdf.UnstructuredPDFLoader object at 0x7f30b44ab5e0>]\n"
     ]
    }
   ],
   "source": [
    "print(\"loaders : \",loaders)"
   ]
  },
  {
   "cell_type": "code",
   "execution_count": 22,
   "metadata": {},
   "outputs": [],
   "source": [
    "a=loaders[0].load()"
   ]
  },
  {
   "cell_type": "code",
   "execution_count": 55,
   "metadata": {},
   "outputs": [
    {
     "name": "stdout",
     "output_type": "stream",
     "text": [
      "document size 2\n",
      "Document content size 19825\n"
     ]
    }
   ],
   "source": [
    "print(\"document size\",len(a))\n",
    "print(\"Document content size\",len(a[0].page_content))"
   ]
  },
  {
   "cell_type": "code",
   "execution_count": 35,
   "metadata": {},
   "outputs": [],
   "source": [
    "b=loaders[1].load()"
   ]
  },
  {
   "cell_type": "code",
   "execution_count": 56,
   "metadata": {},
   "outputs": [
    {
     "name": "stdout",
     "output_type": "stream",
     "text": [
      "document size 1\n",
      "Document content size 33577\n"
     ]
    }
   ],
   "source": [
    "print(\"document size\",len(b))\n",
    "print(\"Document content size\",len(b[0].page_content))"
   ]
  },
  {
   "cell_type": "code",
   "execution_count": 54,
   "metadata": {},
   "outputs": [],
   "source": [
    "combined_data = []\n",
    "for loader in loaders:\n",
    "    data = loader.load()\n",
    "    combined_data += data\n"
   ]
  },
  {
   "cell_type": "code",
   "execution_count": 58,
   "metadata": {},
   "outputs": [],
   "source": [
    "from langchain.text_splitter import RecursiveCharacterTextSplitter\n",
    "\n",
    "text_split=RecursiveCharacterTextSplitter(chunk_size=1000,chunk_overlap=0)\n",
    "text=text_split.split_documents(combined_data )"
   ]
  },
  {
   "cell_type": "code",
   "execution_count": 59,
   "metadata": {},
   "outputs": [
    {
     "name": "stdout",
     "output_type": "stream",
     "text": [
      "Before Splitting 2\n",
      "After Splitting 70\n"
     ]
    }
   ],
   "source": [
    "print(\"Before Splitting\",len(combined_data))\n",
    "print(\"After Splitting\",len(text))"
   ]
  },
  {
   "cell_type": "code",
   "execution_count": 60,
   "metadata": {},
   "outputs": [
    {
     "data": {
      "text/plain": [
       "32"
      ]
     },
     "execution_count": 60,
     "metadata": {},
     "output_type": "execute_result"
    }
   ],
   "source": [
    "from langchain.document_loaders import PyPDFDirectoryLoader\n",
    "\n",
    "loader = PyPDFDirectoryLoader(\"documentPdf/\")\n",
    "\n",
    "docs=loader.load()\n",
    "len(docs)"
   ]
  },
  {
   "cell_type": "code",
   "execution_count": null,
   "metadata": {},
   "outputs": [],
   "source": []
  },
  {
   "cell_type": "code",
   "execution_count": null,
   "metadata": {},
   "outputs": [],
   "source": []
  }
 ],
 "metadata": {
  "kernelspec": {
   "display_name": "Python 3",
   "language": "python",
   "name": "python3"
  },
  "language_info": {
   "codemirror_mode": {
    "name": "ipython",
    "version": 3
   },
   "file_extension": ".py",
   "mimetype": "text/x-python",
   "name": "python",
   "nbconvert_exporter": "python",
   "pygments_lexer": "ipython3",
   "version": "3.10.6"
  },
  "orig_nbformat": 4
 },
 "nbformat": 4,
 "nbformat_minor": 2
}
